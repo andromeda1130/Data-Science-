{
 "cells": [
  {
   "cell_type": "raw",
   "id": "ae1b45e8-7669-44be-bc14-423ea2b5286f",
   "metadata": {},
   "source": [
    "Q1. How do you comment code in Python? What are the different types of comments?"
   ]
  },
  {
   "cell_type": "raw",
   "id": "b237a8b5-86da-48ef-b6fb-aa041d5a320b",
   "metadata": {},
   "source": [
    "There are 2 types of comments:\n",
    "    1.Single Line Comment-> Use #\n",
    "    2.MultiLine Comment-> Use \"\"\" \"\"\""
   ]
  },
  {
   "cell_type": "code",
   "execution_count": 2,
   "id": "542a22af-8e4d-4277-8953-fdb1e7312507",
   "metadata": {},
   "outputs": [
    {
     "data": {
      "text/plain": [
       "'\\n2.I am Srijan\\n   Agrawal\\n'"
      ]
     },
     "execution_count": 2,
     "metadata": {},
     "output_type": "execute_result"
    }
   ],
   "source": [
    "#1.hello World\n",
    "\"\"\"\n",
    "2.I am Srijan\n",
    "   Agrawal\n",
    "\"\"\""
   ]
  },
  {
   "cell_type": "raw",
   "id": "2b8ee9dc-eb22-40e7-ad32-d94e396911b9",
   "metadata": {},
   "source": [
    "Q2. What are variables in Python? How do you declare and assign values to variables?"
   ]
  },
  {
   "cell_type": "raw",
   "id": "bce79960-ac58-498c-8818-1d55ce7d2bf2",
   "metadata": {},
   "source": [
    "Variables are use to store some data in a memory to locate them when needed. \n",
    "we use characters,alphabets,string or _anything to represent the variable. \n",
    "We can assigned value to it with the help of assignment operator."
   ]
  },
  {
   "cell_type": "raw",
   "id": "3879faad-b27d-4627-bb2f-5022bbc91d5f",
   "metadata": {},
   "source": [
    "Q3. How do you convert one data type to another in Python?"
   ]
  },
  {
   "cell_type": "code",
   "execution_count": 8,
   "id": "e402160b-d06d-41cf-9d0a-f0ab71ea0c9f",
   "metadata": {},
   "outputs": [
    {
     "data": {
      "text/plain": [
       "'1'"
      ]
     },
     "execution_count": 8,
     "metadata": {},
     "output_type": "execute_result"
    }
   ],
   "source": [
    "#With the help of concept of typecasting\n",
    "a=1;\n",
    "b=str(a)\n",
    "b"
   ]
  },
  {
   "cell_type": "code",
   "execution_count": 9,
   "id": "72a7f82f-4d11-4e89-910e-49b4d9a1bbd7",
   "metadata": {},
   "outputs": [
    {
     "data": {
      "text/plain": [
       "3"
      ]
     },
     "execution_count": 9,
     "metadata": {},
     "output_type": "execute_result"
    }
   ],
   "source": [
    "c=3.45\n",
    "d=int(c)\n",
    "d"
   ]
  },
  {
   "cell_type": "raw",
   "id": "bce8f3a8-7d71-404f-bbdc-35bc605a9eb8",
   "metadata": {},
   "source": [
    "Q4. How do you write and execute a Python script from the command line?"
   ]
  },
  {
   "cell_type": "raw",
   "id": "e6d2721b-27e4-4454-8680-43951d649c96",
   "metadata": {},
   "source": [
    "You need to open a command line and type the word python followed by the path to your script file like this:\n",
    "python first_script.py\n",
    "Hello World!"
   ]
  },
  {
   "cell_type": "raw",
   "id": "0808e838-3de6-4614-b815-da41c1d37525",
   "metadata": {},
   "source": [
    "Q5. Given a list my_list = [1, 2, 3, 4, 5], write the code to slice the list and obtain the sub-list [2, 3]."
   ]
  },
  {
   "cell_type": "code",
   "execution_count": 13,
   "id": "049267cf-aaf0-48f8-8891-881da1276961",
   "metadata": {},
   "outputs": [
    {
     "name": "stdout",
     "output_type": "stream",
     "text": [
      "[2, 3]\n"
     ]
    }
   ],
   "source": [
    "my_list=[1,2,3,4,5]\n",
    "print(my_list[1:3])"
   ]
  },
  {
   "cell_type": "raw",
   "id": "e7295360-5711-4c28-bf72-cc269e8d3e75",
   "metadata": {},
   "source": [
    "Q6. What is a complex number in mathematics, and how is it represented in Python?"
   ]
  },
  {
   "cell_type": "raw",
   "id": "faba69d0-0eaa-46b3-aaca-100ad3e8fe7f",
   "metadata": {},
   "source": [
    "Complex numbers are the numbers that are expressed in the form of a+ib where,\n",
    "a,b are real numbers and 'i' is an imaginary number called “iota”."
   ]
  },
  {
   "cell_type": "code",
   "execution_count": 14,
   "id": "898ab0f9-32aa-4fb7-819a-1b2cbf20bc40",
   "metadata": {},
   "outputs": [
    {
     "data": {
      "text/plain": [
       "(3+4j)"
      ]
     },
     "execution_count": 14,
     "metadata": {},
     "output_type": "execute_result"
    }
   ],
   "source": [
    "z=3+4j\n",
    "z"
   ]
  },
  {
   "cell_type": "raw",
   "id": "a569f0f1-1504-49f2-9f7a-57fe363b6202",
   "metadata": {},
   "source": [
    "Q7. What is the correct way to declare a variable named age and assign the value 25 to it?"
   ]
  },
  {
   "cell_type": "code",
   "execution_count": 16,
   "id": "d1f44bab-fdc8-42d1-8b07-ef47d40a614c",
   "metadata": {},
   "outputs": [
    {
     "data": {
      "text/plain": [
       "25"
      ]
     },
     "execution_count": 16,
     "metadata": {},
     "output_type": "execute_result"
    }
   ],
   "source": [
    "age=25\n",
    "age"
   ]
  },
  {
   "cell_type": "raw",
   "id": "d8aaae5a-d6de-464b-ba9e-f6b7a4aa3da7",
   "metadata": {},
   "source": [
    "Q8. Declare a variable named price and assign the value 9.99 to it. What data type does this variable\n",
    "belong to?"
   ]
  },
  {
   "cell_type": "code",
   "execution_count": 17,
   "id": "a2b7fa08-c4a5-4c78-8f35-7e79c11f4cf3",
   "metadata": {},
   "outputs": [
    {
     "data": {
      "text/plain": [
       "float"
      ]
     },
     "execution_count": 17,
     "metadata": {},
     "output_type": "execute_result"
    }
   ],
   "source": [
    "price=9.99\n",
    "type(price)"
   ]
  },
  {
   "cell_type": "raw",
   "id": "6d8075f5-8abb-4e0b-b31c-02183bd423ae",
   "metadata": {},
   "source": [
    "Q9. Create a variable named name and assign your full name to it as a string. How would you print the\n",
    "value of this variable?"
   ]
  },
  {
   "cell_type": "code",
   "execution_count": 20,
   "id": "3efce2a1-2768-4e62-a480-64afa983cd53",
   "metadata": {},
   "outputs": [
    {
     "name": "stdout",
     "output_type": "stream",
     "text": [
      "Srijan Agrawal\n"
     ]
    }
   ],
   "source": [
    "name=\"Srijan Agrawal\"\n",
    "print(name)"
   ]
  },
  {
   "cell_type": "raw",
   "id": "d09fdfec-bf03-4b6a-93a2-6c20301c2174",
   "metadata": {},
   "source": [
    "Q10. Given the string \"Hello, World!\", extract the substring \"World\"."
   ]
  },
  {
   "cell_type": "code",
   "execution_count": 30,
   "id": "c78bb122-b1f5-4c0e-9751-6df5094a1829",
   "metadata": {},
   "outputs": [
    {
     "name": "stdout",
     "output_type": "stream",
     "text": [
      "World\n"
     ]
    }
   ],
   "source": [
    "str=\"Hello, World!\"\n",
    "print(str[7:12])"
   ]
  },
  {
   "cell_type": "raw",
   "id": "66f82625-063f-4290-8da7-2a42acd25513",
   "metadata": {},
   "source": [
    "Q11. Create a variable named \"is_student\" and assign it a boolean value indicating whether you are\n",
    "currently a student or not."
   ]
  },
  {
   "cell_type": "code",
   "execution_count": 32,
   "id": "7afd17c6-d725-45e8-a01f-22b2bdf4a1c3",
   "metadata": {},
   "outputs": [
    {
     "data": {
      "text/plain": [
       "True"
      ]
     },
     "execution_count": 32,
     "metadata": {},
     "output_type": "execute_result"
    }
   ],
   "source": [
    "is_student=True\n",
    "is_student"
   ]
  },
  {
   "cell_type": "code",
   "execution_count": null,
   "id": "f88b2c88-dfff-43d8-96d5-11551e18bdec",
   "metadata": {},
   "outputs": [],
   "source": []
  }
 ],
 "metadata": {
  "kernelspec": {
   "display_name": "Python 3 (ipykernel)",
   "language": "python",
   "name": "python3"
  },
  "language_info": {
   "codemirror_mode": {
    "name": "ipython",
    "version": 3
   },
   "file_extension": ".py",
   "mimetype": "text/x-python",
   "name": "python",
   "nbconvert_exporter": "python",
   "pygments_lexer": "ipython3",
   "version": "3.10.8"
  }
 },
 "nbformat": 4,
 "nbformat_minor": 5
}
