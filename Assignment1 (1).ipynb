{
 "cells": [
  {
   "cell_type": "raw",
   "id": "f83b49de-719b-4c6f-bded-9cac8d6f7ceb",
   "metadata": {},
   "source": [
    "Q1. Create one variable containing following type of data:\n",
    "(i) string\n",
    "(ii) list\n",
    "(iii) float\n",
    "(iv) tuple"
   ]
  },
  {
   "cell_type": "code",
   "execution_count": 5,
   "id": "a2fee173-dc51-4201-a4b7-e73ce0d60e61",
   "metadata": {},
   "outputs": [],
   "source": [
    "str=\"srijan\"\n",
    "l=[1,2,3,4,5]\n",
    "f=2.345\n",
    "t=(\"srijan\",\"agrawal\")"
   ]
  },
  {
   "cell_type": "raw",
   "id": "8f05a0bf-eb9c-4cf0-a218-9de0ec07a619",
   "metadata": {},
   "source": [
    "Q2. Given are some following variables containing data:\n",
    "(i) var1 = ‘ ‘\n",
    "(ii) var2 = ‘[ DS , ML , Python]’\n",
    "(iii) var3 = [ ‘DS’ , ’ML’ , ‘Python’ ]\n",
    "(iv) var4 = 1.\n",
    "What will be the data type of the above given variable."
   ]
  },
  {
   "cell_type": "code",
   "execution_count": 6,
   "id": "dc02eb6c-3362-449d-a985-98e6d8f3b6cb",
   "metadata": {},
   "outputs": [
    {
     "data": {
      "text/plain": [
       "str"
      ]
     },
     "execution_count": 6,
     "metadata": {},
     "output_type": "execute_result"
    }
   ],
   "source": [
    "var1 = ' '\n",
    "type(var1)"
   ]
  },
  {
   "cell_type": "code",
   "execution_count": 8,
   "id": "ded2e3dd-bf62-4c37-a3c6-3bed3577b34d",
   "metadata": {},
   "outputs": [
    {
     "data": {
      "text/plain": [
       "str"
      ]
     },
     "execution_count": 8,
     "metadata": {},
     "output_type": "execute_result"
    }
   ],
   "source": [
    " var2 = '[ DS , ML , Python]'\n",
    "type(var2)"
   ]
  },
  {
   "cell_type": "code",
   "execution_count": 10,
   "id": "15885c87-b9cb-420b-9d76-8179dbf71fae",
   "metadata": {},
   "outputs": [
    {
     "data": {
      "text/plain": [
       "list"
      ]
     },
     "execution_count": 10,
     "metadata": {},
     "output_type": "execute_result"
    }
   ],
   "source": [
    "var3 = [ 'DS' , 'ML' , 'Python' ]\n",
    "type(var3)"
   ]
  },
  {
   "cell_type": "code",
   "execution_count": 11,
   "id": "7f345825-3493-48de-a5fc-a0e1964e91b5",
   "metadata": {},
   "outputs": [
    {
     "data": {
      "text/plain": [
       "int"
      ]
     },
     "execution_count": 11,
     "metadata": {},
     "output_type": "execute_result"
    }
   ],
   "source": [
    "var4 = 1\n",
    "type(var4)"
   ]
  },
  {
   "cell_type": "raw",
   "id": "2776e57e-0c0e-499c-b0ac-890fba43e466",
   "metadata": {},
   "source": [
    "Q3. Explain the use of the following operators using an example:\n",
    "(i) / -->Division Operator\n",
    "(ii) % -->Modulou Operator\n",
    "(iii) // -->Floor Value Operator\n",
    "(iv) ** -->Exponential/Power Operator"
   ]
  },
  {
   "cell_type": "code",
   "execution_count": 12,
   "id": "f80fcc9c-89f5-480d-beee-ef408b9e099d",
   "metadata": {
    "tags": []
   },
   "outputs": [
    {
     "data": {
      "text/plain": [
       "2.5"
      ]
     },
     "execution_count": 12,
     "metadata": {},
     "output_type": "execute_result"
    }
   ],
   "source": [
    "5/2"
   ]
  },
  {
   "cell_type": "code",
   "execution_count": 13,
   "id": "3aa3458c-d38b-4a28-880c-5f10eb06f373",
   "metadata": {},
   "outputs": [
    {
     "data": {
      "text/plain": [
       "1"
      ]
     },
     "execution_count": 13,
     "metadata": {},
     "output_type": "execute_result"
    }
   ],
   "source": [
    "5%2"
   ]
  },
  {
   "cell_type": "code",
   "execution_count": 14,
   "id": "8be80313-bc8a-4c45-8efe-0186477c3022",
   "metadata": {},
   "outputs": [
    {
     "data": {
      "text/plain": [
       "2"
      ]
     },
     "execution_count": 14,
     "metadata": {},
     "output_type": "execute_result"
    }
   ],
   "source": [
    "5//2"
   ]
  },
  {
   "cell_type": "code",
   "execution_count": 15,
   "id": "327c39f2-d0ee-4719-8374-f289b8c42ce2",
   "metadata": {},
   "outputs": [
    {
     "data": {
      "text/plain": [
       "25"
      ]
     },
     "execution_count": 15,
     "metadata": {},
     "output_type": "execute_result"
    }
   ],
   "source": [
    "5**2"
   ]
  },
  {
   "cell_type": "raw",
   "id": "5327dd85-b5cf-49d8-b32b-f243489de7d2",
   "metadata": {},
   "source": [
    "Q4. Create a list of length 10 of your choice containing multiple types of data. Using for loop print the\n",
    "element and its data type."
   ]
  },
  {
   "cell_type": "code",
   "execution_count": 18,
   "id": "bf5967f5-c98c-412b-a657-72104242303a",
   "metadata": {},
   "outputs": [
    {
     "name": "stdout",
     "output_type": "stream",
     "text": [
      "1\n",
      "<class 'int'>\n",
      "2\n",
      "<class 'int'>\n",
      "2.3\n",
      "<class 'float'>\n",
      "3.4\n",
      "<class 'float'>\n",
      "srijan\n",
      "<class 'str'>\n",
      "agrawal\n",
      "<class 'str'>\n",
      "(3+4j)\n",
      "<class 'complex'>\n",
      "(5+6j)\n",
      "<class 'complex'>\n",
      "a\n",
      "<class 'str'>\n",
      "4j\n",
      "<class 'complex'>\n"
     ]
    }
   ],
   "source": [
    "l=[1,2,2.3,3.4,\"srijan\",\"agrawal\",3+4j,5+6j,'a',4j]\n",
    "for i in l:\n",
    "    print(i)\n",
    "    print(type(i))"
   ]
  },
  {
   "cell_type": "raw",
   "id": "d956a6b0-c925-4eeb-a436-ff3e48fc0ddf",
   "metadata": {},
   "source": [
    "Q5. Using a while loop, verify if the number A is purely divisible by number B and if so then how many\n",
    "times it can be divisible."
   ]
  },
  {
   "cell_type": "code",
   "execution_count": 12,
   "id": "f04d4fd6-b2b7-4494-b403-9d8016b80121",
   "metadata": {},
   "outputs": [
    {
     "name": "stdin",
     "output_type": "stream",
     "text": [
      " 6\n",
      " 7\n"
     ]
    },
    {
     "name": "stdout",
     "output_type": "stream",
     "text": [
      "not divisible\n"
     ]
    }
   ],
   "source": [
    "a=int(input())\n",
    "b=int(input())\n",
    "c=0\n",
    "if a%b==0:\n",
    "    while(a/b>=b and type(a/b)==int):\n",
    "        c+=1\n",
    "        a/=b\n",
    "    c\n",
    "else:\n",
    "    print(\"not divisible\")"
   ]
  },
  {
   "cell_type": "raw",
   "id": "683d1ba5-ca8d-4c88-8a5f-06372f39b8b6",
   "metadata": {},
   "source": [
    "Q6. Create a list containing 25 int type data. Using for loop and if-else condition print if the element is\n",
    "divisible by 3 or not."
   ]
  },
  {
   "cell_type": "code",
   "execution_count": 1,
   "id": "7c2afff7-4589-4dc8-9fc7-6240af0fd1ea",
   "metadata": {},
   "outputs": [],
   "source": [
    "l=list(range(25))"
   ]
  },
  {
   "cell_type": "code",
   "execution_count": 3,
   "id": "2e2ae4da-c32e-4815-a807-480e747234b6",
   "metadata": {},
   "outputs": [
    {
     "name": "stdout",
     "output_type": "stream",
     "text": [
      "0\n",
      "Divisible by 3\n",
      "1\n",
      "Not Divisible by 3\n",
      "2\n",
      "Not Divisible by 3\n",
      "3\n",
      "Divisible by 3\n",
      "4\n",
      "Not Divisible by 3\n",
      "5\n",
      "Not Divisible by 3\n",
      "6\n",
      "Divisible by 3\n",
      "7\n",
      "Not Divisible by 3\n",
      "8\n",
      "Not Divisible by 3\n",
      "9\n",
      "Divisible by 3\n",
      "10\n",
      "Not Divisible by 3\n",
      "11\n",
      "Not Divisible by 3\n",
      "12\n",
      "Divisible by 3\n",
      "13\n",
      "Not Divisible by 3\n",
      "14\n",
      "Not Divisible by 3\n",
      "15\n",
      "Divisible by 3\n",
      "16\n",
      "Not Divisible by 3\n",
      "17\n",
      "Not Divisible by 3\n",
      "18\n",
      "Divisible by 3\n",
      "19\n",
      "Not Divisible by 3\n",
      "20\n",
      "Not Divisible by 3\n",
      "21\n",
      "Divisible by 3\n",
      "22\n",
      "Not Divisible by 3\n",
      "23\n",
      "Not Divisible by 3\n",
      "24\n",
      "Divisible by 3\n"
     ]
    }
   ],
   "source": [
    "for i in l:\n",
    "    if i%3==0:\n",
    "        print(i)\n",
    "        print(\"Divisible by 3\")\n",
    "    else:\n",
    "        print(i)\n",
    "        print(\"Not Divisible by 3\")"
   ]
  },
  {
   "cell_type": "raw",
   "id": "73fde3f9-77b7-4666-afec-f52ade4d4ece",
   "metadata": {},
   "source": [
    "Q7. What do you understand about mutable and immutable data types? Give examples for both showing\n",
    "this property."
   ]
  },
  {
   "cell_type": "raw",
   "id": "4fb9147c-49e6-4bab-ad1d-2dec47a03815",
   "metadata": {},
   "source": [
    "Mutable data type-> We  can modify the objects.\n",
    "ex:list\n",
    "Imuntable  data type:We can't modfify the objects.\n",
    "ex:string"
   ]
  },
  {
   "cell_type": "code",
   "execution_count": 13,
   "id": "6d035436-ace7-4cee-831c-75683a4da70f",
   "metadata": {},
   "outputs": [
    {
     "data": {
      "text/plain": [
       "[1, 4, 3]"
      ]
     },
     "execution_count": 13,
     "metadata": {},
     "output_type": "execute_result"
    }
   ],
   "source": [
    "l=[1,2,3]\n",
    "l[1]=4\n",
    "l"
   ]
  },
  {
   "cell_type": "code",
   "execution_count": 14,
   "id": "848bce04-27b7-46c5-b6a5-c758ab1e5f3f",
   "metadata": {},
   "outputs": [
    {
     "ename": "TypeError",
     "evalue": "'str' object does not support item assignment",
     "output_type": "error",
     "traceback": [
      "\u001b[0;31m---------------------------------------------------------------------------\u001b[0m",
      "\u001b[0;31mTypeError\u001b[0m                                 Traceback (most recent call last)",
      "Cell \u001b[0;32mIn[14], line 2\u001b[0m\n\u001b[1;32m      1\u001b[0m \u001b[38;5;28mstr\u001b[39m\u001b[38;5;241m=\u001b[39m\u001b[38;5;124m\"\u001b[39m\u001b[38;5;124msrijan\u001b[39m\u001b[38;5;124m\"\u001b[39m\n\u001b[0;32m----> 2\u001b[0m \u001b[38;5;28;43mstr\u001b[39;49m\u001b[43m[\u001b[49m\u001b[38;5;241;43m0\u001b[39;49m\u001b[43m]\u001b[49m\u001b[38;5;241m=\u001b[39m\u001b[38;5;124m'\u001b[39m\u001b[38;5;124ma\u001b[39m\u001b[38;5;124m'\u001b[39m\n\u001b[1;32m      3\u001b[0m \u001b[38;5;28mstr\u001b[39m\n",
      "\u001b[0;31mTypeError\u001b[0m: 'str' object does not support item assignment"
     ]
    }
   ],
   "source": [
    "str=\"srijan\"\n",
    "str[0]='a'\n",
    "str"
   ]
  },
  {
   "cell_type": "code",
   "execution_count": null,
   "id": "750a3091-9a3f-4f17-97fa-2d8353f14e9a",
   "metadata": {},
   "outputs": [],
   "source": []
  }
 ],
 "metadata": {
  "kernelspec": {
   "display_name": "Python 3 (ipykernel)",
   "language": "python",
   "name": "python3"
  },
  "language_info": {
   "codemirror_mode": {
    "name": "ipython",
    "version": 3
   },
   "file_extension": ".py",
   "mimetype": "text/x-python",
   "name": "python",
   "nbconvert_exporter": "python",
   "pygments_lexer": "ipython3",
   "version": "3.10.8"
  }
 },
 "nbformat": 4,
 "nbformat_minor": 5
}
